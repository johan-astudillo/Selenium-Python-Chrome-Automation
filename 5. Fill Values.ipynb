{
 "cells": [
  {
   "cell_type": "markdown",
   "id": "42fabe8d",
   "metadata": {},
   "source": [
    "# FOR www.filetechn.com"
   ]
  },
  {
   "cell_type": "markdown",
   "id": "d739b00c",
   "metadata": {},
   "source": []
  },
  {
   "cell_type": "code",
   "execution_count": 1,
   "id": "0b8042ae",
   "metadata": {},
   "outputs": [],
   "source": [
    "from selenium import webdriver\n",
    "from selenium.webdriver.common.by import By"
   ]
  },
  {
   "cell_type": "code",
   "execution_count": 2,
   "id": "bb77f6c0",
   "metadata": {},
   "outputs": [],
   "source": [
    "#CODE IN DESCRIPTION"
   ]
  },
  {
   "cell_type": "code",
   "execution_count": 3,
   "id": "3760dc01",
   "metadata": {},
   "outputs": [],
   "source": [
    "url = 'https://www.filetechn.com/'"
   ]
  },
  {
   "cell_type": "markdown",
   "id": "7c23e15b",
   "metadata": {},
   "source": [
    "# 2. Open Incognite Mode"
   ]
  },
  {
   "cell_type": "code",
   "execution_count": 4,
   "id": "9716c2a4",
   "metadata": {},
   "outputs": [
    {
     "name": "stderr",
     "output_type": "stream",
     "text": [
      "/tmp/ipykernel_25863/4056901313.py:4: DeprecationWarning: executable_path has been deprecated, please pass in a Service object\n",
      "  driver = webdriver.Chrome(executable_path='/home/filetech/Desktop/chromedriver', options=options)\n"
     ]
    }
   ],
   "source": [
    "options = webdriver.ChromeOptions()\n",
    "#options.add_argument('--incognito')\n",
    "# Location ChromeDriver\n",
    "driver = webdriver.Chrome(executable_path='/home/filetech/Desktop/chromedriver', options=options)\n",
    "# Url web\n",
    "driver.get(url)"
   ]
  },
  {
   "cell_type": "markdown",
   "id": "6acfd349",
   "metadata": {},
   "source": [
    "# 3. Select And Click Elements"
   ]
  },
  {
   "cell_type": "code",
   "execution_count": 5,
   "id": "a0a8a29d",
   "metadata": {},
   "outputs": [],
   "source": [
    "#get xpath \n",
    "\n",
    "dsearch_field = driver.find_element(By.ID, \"search-4\")\n",
    "\n",
    "search_field = driver.find_element(By.CLASS_NAME, \"admania-entryheader\")   \n",
    "\n",
    "img = driver.find_element(By.XPATH,\"/html/body/div[2]/div[3]/main/div[2]/div[1]/div[1]/article[2]/div[1]/a/img\")\n",
    "\n",
    "\n",
    "#search_field = self.driver.find_element(By.NAME, \"q\")\n"
   ]
  },
  {
   "cell_type": "code",
   "execution_count": 6,
   "id": "e67714c0",
   "metadata": {},
   "outputs": [],
   "source": [
    "date = driver.find_elements(By.XPATH,'//*[@id=\"post-3178\"]/div[2]/div[2]/h2/a') #multiple elements (find_elements)"
   ]
  },
  {
   "cell_type": "code",
   "execution_count": 7,
   "id": "7192b702",
   "metadata": {},
   "outputs": [
    {
     "data": {
      "text/plain": [
       "'▷ Convertir IMAGEN A TEXTO: Escáner texto de imagen para Android'"
      ]
     },
     "execution_count": 7,
     "metadata": {},
     "output_type": "execute_result"
    }
   ],
   "source": [
    "date[0].text"
   ]
  },
  {
   "cell_type": "markdown",
   "id": "484028b5",
   "metadata": {},
   "source": [
    "# 4. Click Elements"
   ]
  },
  {
   "cell_type": "code",
   "execution_count": 10,
   "id": "9193009a",
   "metadata": {},
   "outputs": [],
   "source": [
    "enter = driver.find_element(By.XPATH, '//div[@class=\"admania-gridpost-entryfooter admania-widgettit\"]')\n",
    "\n",
    "enter.click()"
   ]
  },
  {
   "cell_type": "code",
   "execution_count": 13,
   "id": "903598a7",
   "metadata": {},
   "outputs": [],
   "source": [
    "back_home = driver.find_element(By.XPATH, '/html/body/div[2]/header/div[1]/div/nav/div[3]/ul/li[1]/a')\n",
    "\n",
    "back_home.click()"
   ]
  },
  {
   "cell_type": "markdown",
   "id": "70cc3487",
   "metadata": {},
   "source": [
    "# 5. Fill Values"
   ]
  },
  {
   "cell_type": "code",
   "execution_count": 14,
   "id": "1ca0e1b4",
   "metadata": {},
   "outputs": [],
   "source": [
    "search = driver.find_element(By.XPATH, '/html/body/div[2]/div[3]/main/div[2]/div[2]/aside/aside[2]/form/label/input')\n",
    "\n",
    "search.send_keys('Wordpress')\n"
   ]
  },
  {
   "cell_type": "code",
   "execution_count": 15,
   "id": "01449fa3",
   "metadata": {},
   "outputs": [],
   "source": [
    "button = driver.find_element(By.XPATH, '/html/body/div[2]/div[3]/main/div[2]/div[2]/aside/aside[2]/form/input')\n",
    "\n",
    "button.click()"
   ]
  },
  {
   "cell_type": "code",
   "execution_count": 16,
   "id": "3e9e1519",
   "metadata": {},
   "outputs": [],
   "source": [
    "enter_to_post = driver.find_element(By.XPATH, '/html/body/div[2]/div[3]/main/div[1]/div/div/article[1]/div[2]/div[3]/div/a')\n",
    "\n",
    "enter_to_post.click()"
   ]
  },
  {
   "cell_type": "code",
   "execution_count": null,
   "id": "8078942a",
   "metadata": {},
   "outputs": [],
   "source": []
  }
 ],
 "metadata": {
  "kernelspec": {
   "display_name": "Python 3 (ipykernel)",
   "language": "python",
   "name": "python3"
  },
  "language_info": {
   "codemirror_mode": {
    "name": "ipython",
    "version": 3
   },
   "file_extension": ".py",
   "mimetype": "text/x-python",
   "name": "python",
   "nbconvert_exporter": "python",
   "pygments_lexer": "ipython3",
   "version": "3.9.13"
  }
 },
 "nbformat": 4,
 "nbformat_minor": 5
}
