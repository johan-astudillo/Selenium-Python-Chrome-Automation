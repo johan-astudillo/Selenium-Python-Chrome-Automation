{
 "cells": [
  {
   "cell_type": "code",
   "execution_count": 1,
   "id": "9225fa4b",
   "metadata": {},
   "outputs": [],
   "source": [
    "from selenium import webdriver\n",
    "from selenium.webdriver.common.by import By"
   ]
  },
  {
   "cell_type": "code",
   "execution_count": 2,
   "id": "f443fb4b",
   "metadata": {},
   "outputs": [],
   "source": [
    "url = 'http://34.227.63.65/'"
   ]
  },
  {
   "cell_type": "code",
   "execution_count": 3,
   "id": "6d01da97",
   "metadata": {},
   "outputs": [
    {
     "name": "stderr",
     "output_type": "stream",
     "text": [
      "/tmp/ipykernel_7731/877580670.py:4: DeprecationWarning: executable_path has been deprecated, please pass in a Service object\n",
      "  driver = webdriver.Chrome(executable_path='/home/filetech/Desktop/chromedriver', options=options)\n"
     ]
    }
   ],
   "source": [
    "#options\n",
    "options = webdriver.ChromeOptions()\n",
    "# Open browser\n",
    "driver = webdriver.Chrome(executable_path='/home/filetech/Desktop/chromedriver', options=options)\n",
    "driver.maximize_window()\n",
    "\n",
    "# Url web\n",
    "driver.get(url)"
   ]
  },
  {
   "cell_type": "code",
   "execution_count": 4,
   "id": "16a8e7bd",
   "metadata": {},
   "outputs": [],
   "source": [
    "# SELECT elements\n",
    "enter = driver.find_element(By.XPATH,'/html/body/div[2]/div[3]/main/div[2]/div[1]/div[1]/article[1]/div[2]/div[3]/div/a')\n",
    "\n",
    "enter.click()\n"
   ]
  },
  {
   "cell_type": "code",
   "execution_count": 5,
   "id": "83257cc1",
   "metadata": {},
   "outputs": [],
   "source": [
    "# HOME PAGE\n",
    "back_home = driver.find_element(By.XPATH, '/html/body/div[2]/header/div[1]/div/nav/div[3]/ul/li[1]/a')\n",
    "\n",
    "back_home.click()"
   ]
  },
  {
   "cell_type": "code",
   "execution_count": 6,
   "id": "28686700",
   "metadata": {},
   "outputs": [],
   "source": [
    "# Fill\n",
    "search = driver.find_element(By.XPATH, '/html/body/div[2]/div[3]/main/div[2]/div[2]/aside/aside[2]/form/label/input')\n",
    "\n",
    "search.send_keys('Wordpress')"
   ]
  },
  {
   "cell_type": "code",
   "execution_count": 7,
   "id": "8b02c54d",
   "metadata": {},
   "outputs": [],
   "source": [
    "button = driver.find_element(By.XPATH, '/html/body/div[2]/div[3]/main/div[2]/div[2]/aside/aside[2]/form/input')\n",
    "\n",
    "button.click()"
   ]
  }
 ],
 "metadata": {
  "kernelspec": {
   "display_name": "Python 3 (ipykernel)",
   "language": "python",
   "name": "python3"
  },
  "language_info": {
   "codemirror_mode": {
    "name": "ipython",
    "version": 3
   },
   "file_extension": ".py",
   "mimetype": "text/x-python",
   "name": "python",
   "nbconvert_exporter": "python",
   "pygments_lexer": "ipython3",
   "version": "3.9.13"
  }
 },
 "nbformat": 4,
 "nbformat_minor": 5
}
