{
 "cells": [
  {
   "cell_type": "code",
   "execution_count": 1,
   "id": "71101324",
   "metadata": {},
   "outputs": [],
   "source": [
    "from selenium import webdriver"
   ]
  },
  {
   "cell_type": "markdown",
   "id": "a91c7eb9",
   "metadata": {},
   "source": [
    "# FOR www.filetechn.com"
   ]
  },
  {
   "cell_type": "code",
   "execution_count": 2,
   "id": "7f95f35a",
   "metadata": {},
   "outputs": [
    {
     "name": "stderr",
     "output_type": "stream",
     "text": [
      "/tmp/ipykernel_12112/3376510230.py:7: DeprecationWarning: executable_path has been deprecated, please pass in a Service object\n",
      "  driver = webdriver.Chrome(executable_path='/home/filetech/Desktop/chromedriver')\n"
     ]
    }
   ],
   "source": [
    "# Windows\n",
    "\n",
    "#driver = webdriver.Chrome(executable_path=r'C...')\n",
    "\n",
    "# linux \n",
    "\n",
    "driver = webdriver.Chrome(executable_path='/home/filetech/Desktop/chromedriver')"
   ]
  },
  {
   "cell_type": "code",
   "execution_count": 3,
   "id": "bb77f6c0",
   "metadata": {},
   "outputs": [],
   "source": [
    "#CODE IN DESCRIPTION"
   ]
  },
  {
   "cell_type": "code",
   "execution_count": 4,
   "id": "3760dc01",
   "metadata": {},
   "outputs": [],
   "source": [
    "url = 'https://www.filetechn.com/'"
   ]
  },
  {
   "cell_type": "code",
   "execution_count": 5,
   "id": "d9855def",
   "metadata": {},
   "outputs": [],
   "source": [
    "driver.get(url)"
   ]
  },
  {
   "cell_type": "code",
   "execution_count": 6,
   "id": "132363dc",
   "metadata": {},
   "outputs": [],
   "source": [
    "#close page\n",
    "driver.close()"
   ]
  },
  {
   "cell_type": "markdown",
   "id": "7c23e15b",
   "metadata": {},
   "source": [
    "# 2. Open Incognite Mode"
   ]
  },
  {
   "cell_type": "code",
   "execution_count": 7,
   "id": "9716c2a4",
   "metadata": {},
   "outputs": [
    {
     "name": "stderr",
     "output_type": "stream",
     "text": [
      "/tmp/ipykernel_12112/666323247.py:4: DeprecationWarning: executable_path has been deprecated, please pass in a Service object\n",
      "  driver = webdriver.Chrome(executable_path='/home/filetech/Desktop/chromedriver', options=options)\n"
     ]
    }
   ],
   "source": [
    "options = webdriver.ChromeOptions()\n",
    "options.add_argument('--incognito')\n",
    "# Location ChromeDriver\n",
    "driver = webdriver.Chrome(executable_path='/home/filetech/Desktop/chromedriver', options=options)\n",
    "# Url web\n",
    "driver.get(url)"
   ]
  },
  {
   "cell_type": "code",
   "execution_count": null,
   "id": "81a1f5bc",
   "metadata": {},
   "outputs": [],
   "source": []
  }
 ],
 "metadata": {
  "kernelspec": {
   "display_name": "Python 3 (ipykernel)",
   "language": "python",
   "name": "python3"
  },
  "language_info": {
   "codemirror_mode": {
    "name": "ipython",
    "version": 3
   },
   "file_extension": ".py",
   "mimetype": "text/x-python",
   "name": "python",
   "nbconvert_exporter": "python",
   "pygments_lexer": "ipython3",
   "version": "3.9.13"
  }
 },
 "nbformat": 4,
 "nbformat_minor": 5
}
